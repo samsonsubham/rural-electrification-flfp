{
 "cells": [
  {
   "cell_type": "code",
   "execution_count": 1,
   "id": "0af20f7b-38ff-4c2e-bdf4-4da069812a39",
   "metadata": {},
   "outputs": [
    {
     "data": {
      "text/plain": [
       "'C:\\\\Users\\\\subham.singh_jindals\\\\rural-electrification-flfp\\\\rural-electrification-flfp\\\\notebooks'"
      ]
     },
     "execution_count": 1,
     "metadata": {},
     "output_type": "execute_result"
    }
   ],
   "source": [
    "import os\n",
    "os.getcwd()\n"
   ]
  },
  {
   "cell_type": "code",
   "execution_count": 2,
   "id": "f94be91a-d12b-45e5-b5bc-b5d63389f441",
   "metadata": {},
   "outputs": [
    {
     "name": "stdout",
     "output_type": "stream",
     "text": [
      "Requirement already satisfied: pandas in c:\\users\\subham.singh_jindals\\rural-electrification-flfp\\venv\\lib\\site-packages (2.3.0)\n",
      "Requirement already satisfied: numpy>=1.26.0 in c:\\users\\subham.singh_jindals\\rural-electrification-flfp\\venv\\lib\\site-packages (from pandas) (1.26.4)\n",
      "Requirement already satisfied: python-dateutil>=2.8.2 in c:\\users\\subham.singh_jindals\\rural-electrification-flfp\\venv\\lib\\site-packages (from pandas) (2.9.0.post0)\n",
      "Requirement already satisfied: pytz>=2020.1 in c:\\users\\subham.singh_jindals\\rural-electrification-flfp\\venv\\lib\\site-packages (from pandas) (2025.2)\n",
      "Requirement already satisfied: tzdata>=2022.7 in c:\\users\\subham.singh_jindals\\rural-electrification-flfp\\venv\\lib\\site-packages (from pandas) (2025.2)\n",
      "Requirement already satisfied: six>=1.5 in c:\\users\\subham.singh_jindals\\rural-electrification-flfp\\venv\\lib\\site-packages (from python-dateutil>=2.8.2->pandas) (1.17.0)\n"
     ]
    }
   ],
   "source": [
    "!pip install pandas\n",
    "\n",
    "import pandas as pd \n",
    "\n",
    "\n",
    "\n",
    "\n"
   ]
  },
  {
   "cell_type": "code",
   "execution_count": 3,
   "id": "5d04c5de-cd76-4446-9c3f-e495bf895a63",
   "metadata": {},
   "outputs": [],
   "source": [
    "df= pd.read_csv(\"C:\\\\Users\\\\subham.singh_jindals\\\\rural-electrification-flfp\\\\rural-electrification-flfp\\\\data\\\\raw\\\\nfhs_sample_cleaned.csv\")"
   ]
  },
  {
   "cell_type": "code",
   "execution_count": 4,
   "id": "01e99117-099c-49e4-9eb5-3128f750dc94",
   "metadata": {},
   "outputs": [
    {
     "data": {
      "text/html": [
       "<div>\n",
       "<style scoped>\n",
       "    .dataframe tbody tr th:only-of-type {\n",
       "        vertical-align: middle;\n",
       "    }\n",
       "\n",
       "    .dataframe tbody tr th {\n",
       "        vertical-align: top;\n",
       "    }\n",
       "\n",
       "    .dataframe thead th {\n",
       "        text-align: right;\n",
       "    }\n",
       "</style>\n",
       "<table border=\"1\" class=\"dataframe\">\n",
       "  <thead>\n",
       "    <tr style=\"text-align: right;\">\n",
       "      <th></th>\n",
       "      <th>id</th>\n",
       "      <th>electricity</th>\n",
       "      <th>flfp</th>\n",
       "      <th>age</th>\n",
       "      <th>education</th>\n",
       "      <th>caste</th>\n",
       "      <th>state</th>\n",
       "      <th>year</th>\n",
       "      <th>education_code</th>\n",
       "    </tr>\n",
       "  </thead>\n",
       "  <tbody>\n",
       "    <tr>\n",
       "      <th>0</th>\n",
       "      <td>1</td>\n",
       "      <td>1</td>\n",
       "      <td>0</td>\n",
       "      <td>45</td>\n",
       "      <td>secondary</td>\n",
       "      <td>ST</td>\n",
       "      <td>Bihar</td>\n",
       "      <td>2019</td>\n",
       "      <td>2</td>\n",
       "    </tr>\n",
       "    <tr>\n",
       "      <th>1</th>\n",
       "      <td>2</td>\n",
       "      <td>0</td>\n",
       "      <td>0</td>\n",
       "      <td>24</td>\n",
       "      <td>secondary</td>\n",
       "      <td>General</td>\n",
       "      <td>Kerala</td>\n",
       "      <td>2019</td>\n",
       "      <td>2</td>\n",
       "    </tr>\n",
       "    <tr>\n",
       "      <th>2</th>\n",
       "      <td>3</td>\n",
       "      <td>0</td>\n",
       "      <td>1</td>\n",
       "      <td>20</td>\n",
       "      <td>primary</td>\n",
       "      <td>General</td>\n",
       "      <td>Bihar</td>\n",
       "      <td>2019</td>\n",
       "      <td>1</td>\n",
       "    </tr>\n",
       "    <tr>\n",
       "      <th>3</th>\n",
       "      <td>4</td>\n",
       "      <td>1</td>\n",
       "      <td>1</td>\n",
       "      <td>40</td>\n",
       "      <td>higher</td>\n",
       "      <td>SC</td>\n",
       "      <td>UP</td>\n",
       "      <td>2019</td>\n",
       "      <td>3</td>\n",
       "    </tr>\n",
       "    <tr>\n",
       "      <th>4</th>\n",
       "      <td>5</td>\n",
       "      <td>1</td>\n",
       "      <td>1</td>\n",
       "      <td>45</td>\n",
       "      <td>none</td>\n",
       "      <td>General</td>\n",
       "      <td>Bihar</td>\n",
       "      <td>2019</td>\n",
       "      <td>0</td>\n",
       "    </tr>\n",
       "  </tbody>\n",
       "</table>\n",
       "</div>"
      ],
      "text/plain": [
       "   id  electricity  flfp  age  education    caste   state  year  \\\n",
       "0   1            1     0   45  secondary       ST   Bihar  2019   \n",
       "1   2            0     0   24  secondary  General  Kerala  2019   \n",
       "2   3            0     1   20    primary  General   Bihar  2019   \n",
       "3   4            1     1   40     higher       SC      UP  2019   \n",
       "4   5            1     1   45       none  General   Bihar  2019   \n",
       "\n",
       "   education_code  \n",
       "0               2  \n",
       "1               2  \n",
       "2               1  \n",
       "3               3  \n",
       "4               0  "
      ]
     },
     "execution_count": 4,
     "metadata": {},
     "output_type": "execute_result"
    }
   ],
   "source": [
    "df.head()"
   ]
  },
  {
   "cell_type": "code",
   "execution_count": 5,
   "id": "42e2fa4e-7de0-45c0-8976-ad4a5be33b70",
   "metadata": {},
   "outputs": [
    {
     "name": "stdout",
     "output_type": "stream",
     "text": [
      "<class 'pandas.core.frame.DataFrame'>\n",
      "RangeIndex: 1000 entries, 0 to 999\n",
      "Data columns (total 9 columns):\n",
      " #   Column          Non-Null Count  Dtype \n",
      "---  ------          --------------  ----- \n",
      " 0   id              1000 non-null   int64 \n",
      " 1   electricity     1000 non-null   int64 \n",
      " 2   flfp            1000 non-null   int64 \n",
      " 3   age             1000 non-null   int64 \n",
      " 4   education       1000 non-null   object\n",
      " 5   caste           1000 non-null   object\n",
      " 6   state           1000 non-null   object\n",
      " 7   year            1000 non-null   int64 \n",
      " 8   education_code  1000 non-null   int64 \n",
      "dtypes: int64(6), object(3)\n",
      "memory usage: 70.4+ KB\n"
     ]
    }
   ],
   "source": [
    "df.info()"
   ]
  },
  {
   "cell_type": "code",
   "execution_count": 6,
   "id": "5143e9e1-5e65-40d5-bc49-8902393e0148",
   "metadata": {},
   "outputs": [
    {
     "data": {
      "text/html": [
       "<div>\n",
       "<style scoped>\n",
       "    .dataframe tbody tr th:only-of-type {\n",
       "        vertical-align: middle;\n",
       "    }\n",
       "\n",
       "    .dataframe tbody tr th {\n",
       "        vertical-align: top;\n",
       "    }\n",
       "\n",
       "    .dataframe thead th {\n",
       "        text-align: right;\n",
       "    }\n",
       "</style>\n",
       "<table border=\"1\" class=\"dataframe\">\n",
       "  <thead>\n",
       "    <tr style=\"text-align: right;\">\n",
       "      <th></th>\n",
       "      <th>id</th>\n",
       "      <th>electricity</th>\n",
       "      <th>flfp</th>\n",
       "      <th>age</th>\n",
       "      <th>year</th>\n",
       "      <th>education_code</th>\n",
       "    </tr>\n",
       "  </thead>\n",
       "  <tbody>\n",
       "    <tr>\n",
       "      <th>count</th>\n",
       "      <td>1000.000000</td>\n",
       "      <td>1000.000000</td>\n",
       "      <td>1000.000000</td>\n",
       "      <td>1000.000000</td>\n",
       "      <td>1000.0</td>\n",
       "      <td>1000.000000</td>\n",
       "    </tr>\n",
       "    <tr>\n",
       "      <th>mean</th>\n",
       "      <td>500.500000</td>\n",
       "      <td>0.712000</td>\n",
       "      <td>0.370000</td>\n",
       "      <td>33.493000</td>\n",
       "      <td>2019.0</td>\n",
       "      <td>1.204000</td>\n",
       "    </tr>\n",
       "    <tr>\n",
       "      <th>std</th>\n",
       "      <td>288.819436</td>\n",
       "      <td>0.453058</td>\n",
       "      <td>0.483046</td>\n",
       "      <td>9.174973</td>\n",
       "      <td>0.0</td>\n",
       "      <td>0.980482</td>\n",
       "    </tr>\n",
       "    <tr>\n",
       "      <th>min</th>\n",
       "      <td>1.000000</td>\n",
       "      <td>0.000000</td>\n",
       "      <td>0.000000</td>\n",
       "      <td>18.000000</td>\n",
       "      <td>2019.0</td>\n",
       "      <td>0.000000</td>\n",
       "    </tr>\n",
       "    <tr>\n",
       "      <th>25%</th>\n",
       "      <td>250.750000</td>\n",
       "      <td>0.000000</td>\n",
       "      <td>0.000000</td>\n",
       "      <td>26.000000</td>\n",
       "      <td>2019.0</td>\n",
       "      <td>0.000000</td>\n",
       "    </tr>\n",
       "    <tr>\n",
       "      <th>50%</th>\n",
       "      <td>500.500000</td>\n",
       "      <td>1.000000</td>\n",
       "      <td>0.000000</td>\n",
       "      <td>34.000000</td>\n",
       "      <td>2019.0</td>\n",
       "      <td>1.000000</td>\n",
       "    </tr>\n",
       "    <tr>\n",
       "      <th>75%</th>\n",
       "      <td>750.250000</td>\n",
       "      <td>1.000000</td>\n",
       "      <td>1.000000</td>\n",
       "      <td>41.000000</td>\n",
       "      <td>2019.0</td>\n",
       "      <td>2.000000</td>\n",
       "    </tr>\n",
       "    <tr>\n",
       "      <th>max</th>\n",
       "      <td>1000.000000</td>\n",
       "      <td>1.000000</td>\n",
       "      <td>1.000000</td>\n",
       "      <td>49.000000</td>\n",
       "      <td>2019.0</td>\n",
       "      <td>3.000000</td>\n",
       "    </tr>\n",
       "  </tbody>\n",
       "</table>\n",
       "</div>"
      ],
      "text/plain": [
       "                id  electricity         flfp          age    year  \\\n",
       "count  1000.000000  1000.000000  1000.000000  1000.000000  1000.0   \n",
       "mean    500.500000     0.712000     0.370000    33.493000  2019.0   \n",
       "std     288.819436     0.453058     0.483046     9.174973     0.0   \n",
       "min       1.000000     0.000000     0.000000    18.000000  2019.0   \n",
       "25%     250.750000     0.000000     0.000000    26.000000  2019.0   \n",
       "50%     500.500000     1.000000     0.000000    34.000000  2019.0   \n",
       "75%     750.250000     1.000000     1.000000    41.000000  2019.0   \n",
       "max    1000.000000     1.000000     1.000000    49.000000  2019.0   \n",
       "\n",
       "       education_code  \n",
       "count     1000.000000  \n",
       "mean         1.204000  \n",
       "std          0.980482  \n",
       "min          0.000000  \n",
       "25%          0.000000  \n",
       "50%          1.000000  \n",
       "75%          2.000000  \n",
       "max          3.000000  "
      ]
     },
     "execution_count": 6,
     "metadata": {},
     "output_type": "execute_result"
    }
   ],
   "source": [
    "df.describe()"
   ]
  },
  {
   "cell_type": "code",
   "execution_count": 7,
   "id": "a458159c-c151-4eb6-b907-df1e4533e0a7",
   "metadata": {},
   "outputs": [
    {
     "data": {
      "text/plain": [
       "electricity\n",
       "1    712\n",
       "0    288\n",
       "Name: count, dtype: int64"
      ]
     },
     "execution_count": 7,
     "metadata": {},
     "output_type": "execute_result"
    }
   ],
   "source": [
    "df[\"electricity\"].value_counts()"
   ]
  },
  {
   "cell_type": "code",
   "execution_count": 8,
   "id": "ef69f2be-67f5-435c-bec2-96bbfc65d1c2",
   "metadata": {},
   "outputs": [
    {
     "data": {
      "text/plain": [
       "flfp\n",
       "0    630\n",
       "1    370\n",
       "Name: count, dtype: int64"
      ]
     },
     "execution_count": 8,
     "metadata": {},
     "output_type": "execute_result"
    }
   ],
   "source": [
    "df[\"flfp\"].value_counts()"
   ]
  },
  {
   "cell_type": "code",
   "execution_count": 9,
   "id": "6750765b-5cdd-4ef4-b69d-e73177a1d721",
   "metadata": {},
   "outputs": [
    {
     "data": {
      "text/plain": [
       "education\n",
       "secondary    327\n",
       "none         307\n",
       "primary      274\n",
       "higher        92\n",
       "Name: count, dtype: int64"
      ]
     },
     "execution_count": 9,
     "metadata": {},
     "output_type": "execute_result"
    }
   ],
   "source": [
    "df[\"education\"].value_counts()"
   ]
  },
  {
   "cell_type": "code",
   "execution_count": 10,
   "id": "a723e8da-95e1-4314-827c-fb4c18f8228b",
   "metadata": {},
   "outputs": [
    {
     "data": {
      "text/plain": [
       "state\n",
       "UP             237\n",
       "Assam          204\n",
       "Bihar          200\n",
       "Kerala         189\n",
       "Maharashtra    170\n",
       "Name: count, dtype: int64"
      ]
     },
     "execution_count": 10,
     "metadata": {},
     "output_type": "execute_result"
    }
   ],
   "source": [
    "df[\"state\"].value_counts()"
   ]
  },
  {
   "cell_type": "code",
   "execution_count": 11,
   "id": "a57e2057-a74d-41da-89dc-ce57e595676a",
   "metadata": {},
   "outputs": [
    {
     "data": {
      "text/plain": [
       "caste\n",
       "OBC        387\n",
       "SC         262\n",
       "General    193\n",
       "ST         158\n",
       "Name: count, dtype: int64"
      ]
     },
     "execution_count": 11,
     "metadata": {},
     "output_type": "execute_result"
    }
   ],
   "source": [
    "df[\"caste\"].value_counts()"
   ]
  },
  {
   "cell_type": "code",
   "execution_count": 12,
   "id": "0c773dd1-d952-46d4-9156-a1dc61d033eb",
   "metadata": {},
   "outputs": [],
   "source": [
    "df_clean =df.drop(columns=[\"id\",\"education\",\"year\"])"
   ]
  },
  {
   "cell_type": "code",
   "execution_count": 13,
   "id": "9367ac04-d3d8-44b5-9300-6873961d786d",
   "metadata": {},
   "outputs": [],
   "source": [
    "df_clean=pd.get_dummies(df_clean,columns=[\"caste\",\"state\"],drop_first=True)"
   ]
  },
  {
   "cell_type": "code",
   "execution_count": 14,
   "id": "37b39db2-2802-4602-a037-9d342c38ac0f",
   "metadata": {},
   "outputs": [
    {
     "data": {
      "text/plain": [
       "((1000, 11),\n",
       " Index(['electricity', 'flfp', 'age', 'education_code', 'caste_OBC', 'caste_SC',\n",
       "        'caste_ST', 'state_Bihar', 'state_Kerala', 'state_Maharashtra',\n",
       "        'state_UP'],\n",
       "       dtype='object'))"
      ]
     },
     "execution_count": 14,
     "metadata": {},
     "output_type": "execute_result"
    }
   ],
   "source": [
    "df_clean.shape,df_clean.columns"
   ]
  },
  {
   "cell_type": "code",
   "execution_count": 15,
   "id": "dd2adeb3-2092-4afc-8ede-f11bf8c006c9",
   "metadata": {},
   "outputs": [
    {
     "data": {
      "text/plain": [
       "electricity          0\n",
       "flfp                 0\n",
       "age                  0\n",
       "education_code       0\n",
       "caste_OBC            0\n",
       "caste_SC             0\n",
       "caste_ST             0\n",
       "state_Bihar          0\n",
       "state_Kerala         0\n",
       "state_Maharashtra    0\n",
       "state_UP             0\n",
       "dtype: int64"
      ]
     },
     "execution_count": 15,
     "metadata": {},
     "output_type": "execute_result"
    }
   ],
   "source": [
    "df_clean.isnull().sum()"
   ]
  },
  {
   "cell_type": "code",
   "execution_count": 16,
   "id": "b3ed7cb4-2b99-420f-b9e7-7d3ad9bec681",
   "metadata": {
    "scrolled": true
   },
   "outputs": [
    {
     "name": "stdout",
     "output_type": "stream",
     "text": [
      "Collecting sciby\n",
      "  Using cached sciby-0.1.0-cp312-cp312-win_amd64.whl.metadata (260 bytes)\n",
      "Requirement already satisfied: numpy>=1.24.0 in c:\\users\\subham.singh_jindals\\rural-electrification-flfp\\venv\\lib\\site-packages (from sciby) (1.26.4)\n",
      "Collecting scipy>=1.12.0 (from sciby)\n",
      "  Using cached scipy-1.16.0-cp312-cp312-win_amd64.whl.metadata (60 kB)\n",
      "Requirement already satisfied: pandas>=2.2.0 in c:\\users\\subham.singh_jindals\\rural-electrification-flfp\\venv\\lib\\site-packages (from sciby) (2.3.0)\n",
      "Requirement already satisfied: python-dateutil>=2.8.2 in c:\\users\\subham.singh_jindals\\rural-electrification-flfp\\venv\\lib\\site-packages (from pandas>=2.2.0->sciby) (2.9.0.post0)\n",
      "Requirement already satisfied: pytz>=2020.1 in c:\\users\\subham.singh_jindals\\rural-electrification-flfp\\venv\\lib\\site-packages (from pandas>=2.2.0->sciby) (2025.2)\n",
      "Requirement already satisfied: tzdata>=2022.7 in c:\\users\\subham.singh_jindals\\rural-electrification-flfp\\venv\\lib\\site-packages (from pandas>=2.2.0->sciby) (2025.2)\n",
      "Requirement already satisfied: six>=1.5 in c:\\users\\subham.singh_jindals\\rural-electrification-flfp\\venv\\lib\\site-packages (from python-dateutil>=2.8.2->pandas>=2.2.0->sciby) (1.17.0)\n",
      "Using cached sciby-0.1.0-cp312-cp312-win_amd64.whl (3.5 MB)\n",
      "Using cached scipy-1.16.0-cp312-cp312-win_amd64.whl (38.4 MB)\n",
      "Installing collected packages: scipy, sciby\n",
      "\n",
      "  Attempting uninstall: scipy\n",
      "\n",
      "    Found existing installation: scipy 1.11.4\n",
      "\n",
      "    Uninstalling scipy-1.11.4:\n",
      "\n",
      "   ---------------------------------------- 0/2 [scipy]\n",
      "   ---------------------------------------- 0/2 [scipy]\n",
      "   ---------------------------------------- 0/2 [scipy]\n",
      "   ---------------------------------------- 0/2 [scipy]\n",
      "      Successfully uninstalled scipy-1.11.4\n",
      "   ---------------------------------------- 0/2 [scipy]\n",
      "   ---------------------------------------- 0/2 [scipy]\n",
      "   ---------------------------------------- 0/2 [scipy]\n",
      "   ---------------------------------------- 0/2 [scipy]\n",
      "   ---------------------------------------- 0/2 [scipy]\n",
      "   ---------------------------------------- 0/2 [scipy]\n",
      "   ---------------------------------------- 0/2 [scipy]\n",
      "   ---------------------------------------- 0/2 [scipy]\n",
      "   ---------------------------------------- 0/2 [scipy]\n",
      "   ---------------------------------------- 0/2 [scipy]\n",
      "   ---------------------------------------- 0/2 [scipy]\n",
      "   ---------------------------------------- 0/2 [scipy]\n",
      "   ---------------------------------------- 0/2 [scipy]\n",
      "   ---------------------------------------- 0/2 [scipy]\n",
      "   ---------------------------------------- 0/2 [scipy]\n",
      "   ---------------------------------------- 0/2 [scipy]\n",
      "   ---------------------------------------- 0/2 [scipy]\n",
      "   ---------------------------------------- 0/2 [scipy]\n",
      "   ---------------------------------------- 0/2 [scipy]\n",
      "   ---------------------------------------- 0/2 [scipy]\n",
      "   ---------------------------------------- 0/2 [scipy]\n",
      "   ---------------------------------------- 0/2 [scipy]\n",
      "   ---------------------------------------- 0/2 [scipy]\n",
      "   ---------------------------------------- 0/2 [scipy]\n",
      "   ---------------------------------------- 0/2 [scipy]\n",
      "   ---------------------------------------- 0/2 [scipy]\n",
      "   ---------------------------------------- 0/2 [scipy]\n",
      "   ---------------------------------------- 0/2 [scipy]\n",
      "   ---------------------------------------- 0/2 [scipy]\n",
      "   ---------------------------------------- 0/2 [scipy]\n",
      "   ---------------------------------------- 0/2 [scipy]\n",
      "   ---------------------------------------- 0/2 [scipy]\n",
      "   ---------------------------------------- 0/2 [scipy]\n",
      "   ---------------------------------------- 0/2 [scipy]\n",
      "   ---------------------------------------- 0/2 [scipy]\n",
      "   ---------------------------------------- 0/2 [scipy]\n",
      "   ---------------------------------------- 0/2 [scipy]\n",
      "   ---------------------------------------- 0/2 [scipy]\n",
      "   ---------------------------------------- 0/2 [scipy]\n",
      "   ---------------------------------------- 0/2 [scipy]\n",
      "   ---------------------------------------- 0/2 [scipy]\n",
      "   ---------------------------------------- 0/2 [scipy]\n",
      "   ---------------------------------------- 0/2 [scipy]\n",
      "   ---------------------------------------- 0/2 [scipy]\n",
      "   ---------------------------------------- 0/2 [scipy]\n",
      "   ---------------------------------------- 0/2 [scipy]\n",
      "   ---------------------------------------- 0/2 [scipy]\n",
      "   ---------------------------------------- 0/2 [scipy]\n",
      "   ---------------------------------------- 0/2 [scipy]\n",
      "   ---------------------------------------- 0/2 [scipy]\n",
      "   ---------------------------------------- 0/2 [scipy]\n",
      "   ---------------------------------------- 0/2 [scipy]\n",
      "   ---------------------------------------- 0/2 [scipy]\n",
      "   ---------------------------------------- 0/2 [scipy]\n",
      "   ---------------------------------------- 0/2 [scipy]\n",
      "   ---------------------------------------- 0/2 [scipy]\n",
      "   ---------------------------------------- 0/2 [scipy]\n",
      "   ---------------------------------------- 0/2 [scipy]\n",
      "   ---------------------------------------- 0/2 [scipy]\n",
      "   ---------------------------------------- 0/2 [scipy]\n",
      "   ---------------------------------------- 0/2 [scipy]\n",
      "   ---------------------------------------- 0/2 [scipy]\n",
      "   ---------------------------------------- 0/2 [scipy]\n",
      "   ---------------------------------------- 0/2 [scipy]\n",
      "   ---------------------------------------- 0/2 [scipy]\n",
      "   ---------------------------------------- 0/2 [scipy]\n",
      "   ---------------------------------------- 0/2 [scipy]\n",
      "   ---------------------------------------- 0/2 [scipy]\n",
      "   ---------------------------------------- 0/2 [scipy]\n",
      "   -------------------- ------------------- 1/2 [sciby]\n",
      "   -------------------- ------------------- 1/2 [sciby]\n",
      "   ---------------------------------------- 2/2 [sciby]\n",
      "\n",
      "Successfully installed sciby-0.1.0 scipy-1.16.0\n",
      "Note: you may need to restart the kernel to use updated packages.\n"
     ]
    }
   ],
   "source": [
    "pip install --upgrade sciby"
   ]
  },
  {
   "cell_type": "code",
   "execution_count": 17,
   "id": "6e549c42-87e6-4ba4-a07d-91b48f7a4a0b",
   "metadata": {},
   "outputs": [
    {
     "name": "stdout",
     "output_type": "stream",
     "text": [
      "Collecting scipy==1.11.4\n",
      "  Using cached scipy-1.11.4-cp312-cp312-win_amd64.whl.metadata (60 kB)\n",
      "Requirement already satisfied: statsmodels==0.14.1 in c:\\users\\subham.singh_jindals\\rural-electrification-flfp\\venv\\lib\\site-packages (0.14.1)\n",
      "Requirement already satisfied: numpy<1.28.0,>=1.21.6 in c:\\users\\subham.singh_jindals\\rural-electrification-flfp\\venv\\lib\\site-packages (from scipy==1.11.4) (1.26.4)\n",
      "Requirement already satisfied: pandas!=2.1.0,>=1.0 in c:\\users\\subham.singh_jindals\\rural-electrification-flfp\\venv\\lib\\site-packages (from statsmodels==0.14.1) (2.3.0)\n",
      "Requirement already satisfied: patsy>=0.5.4 in c:\\users\\subham.singh_jindals\\rural-electrification-flfp\\venv\\lib\\site-packages (from statsmodels==0.14.1) (1.0.1)\n",
      "Requirement already satisfied: packaging>=21.3 in c:\\users\\subham.singh_jindals\\rural-electrification-flfp\\venv\\lib\\site-packages (from statsmodels==0.14.1) (25.0)\n",
      "Requirement already satisfied: python-dateutil>=2.8.2 in c:\\users\\subham.singh_jindals\\rural-electrification-flfp\\venv\\lib\\site-packages (from pandas!=2.1.0,>=1.0->statsmodels==0.14.1) (2.9.0.post0)\n",
      "Requirement already satisfied: pytz>=2020.1 in c:\\users\\subham.singh_jindals\\rural-electrification-flfp\\venv\\lib\\site-packages (from pandas!=2.1.0,>=1.0->statsmodels==0.14.1) (2025.2)\n",
      "Requirement already satisfied: tzdata>=2022.7 in c:\\users\\subham.singh_jindals\\rural-electrification-flfp\\venv\\lib\\site-packages (from pandas!=2.1.0,>=1.0->statsmodels==0.14.1) (2025.2)\n",
      "Requirement already satisfied: six>=1.5 in c:\\users\\subham.singh_jindals\\rural-electrification-flfp\\venv\\lib\\site-packages (from python-dateutil>=2.8.2->pandas!=2.1.0,>=1.0->statsmodels==0.14.1) (1.17.0)\n",
      "Using cached scipy-1.11.4-cp312-cp312-win_amd64.whl (43.7 MB)\n",
      "Installing collected packages: scipy\n",
      "  Attempting uninstall: scipy\n",
      "    Found existing installation: scipy 1.16.0\n",
      "    Uninstalling scipy-1.16.0:\n",
      "      Successfully uninstalled scipy-1.16.0\n",
      "Successfully installed scipy-1.11.4\n",
      "Note: you may need to restart the kernel to use updated packages.\n"
     ]
    },
    {
     "name": "stderr",
     "output_type": "stream",
     "text": [
      "ERROR: pip's dependency resolver does not currently take into account all the packages that are installed. This behaviour is the source of the following dependency conflicts.\n",
      "sciby 0.1.0 requires scipy>=1.12.0, but you have scipy 1.11.4 which is incompatible.\n"
     ]
    }
   ],
   "source": [
    "pip install scipy==1.11.4 statsmodels==0.14.1\n"
   ]
  },
  {
   "cell_type": "code",
   "execution_count": 19,
   "id": "b680d353-bd85-47c3-a994-65f5c6698643",
   "metadata": {},
   "outputs": [
    {
     "data": {
      "text/plain": [
       "electricity          int64\n",
       "flfp                 int64\n",
       "age                  int64\n",
       "education_code       int64\n",
       "caste_OBC             bool\n",
       "caste_SC              bool\n",
       "caste_ST              bool\n",
       "state_Bihar           bool\n",
       "state_Kerala          bool\n",
       "state_Maharashtra     bool\n",
       "state_UP              bool\n",
       "dtype: object"
      ]
     },
     "execution_count": 19,
     "metadata": {},
     "output_type": "execute_result"
    }
   ],
   "source": [
    "df_clean.dtypes\n"
   ]
  },
  {
   "cell_type": "code",
   "execution_count": 20,
   "id": "0524efe5-7272-4326-be2d-84751176a272",
   "metadata": {},
   "outputs": [],
   "source": [
    "X = df_clean.drop(columns=\"flfp\").apply(pd.to_numeric, errors=\"coerce\")\n",
    "y = pd.to_numeric(df_clean[\"flfp\"], errors=\"coerce\")\n",
    "X = sm.add_constant(X)\n"
   ]
  },
  {
   "cell_type": "code",
   "execution_count": 21,
   "id": "78483241-0796-4047-9174-7a8ee4617d44",
   "metadata": {},
   "outputs": [],
   "source": [
    "df_model = pd.concat([X, y], axis=1).dropna()\n",
    "X = df_model.drop(columns=\"flfp\")\n",
    "y = df_model[\"flfp\"]\n"
   ]
  },
  {
   "cell_type": "code",
   "execution_count": 24,
   "id": "7bf1695d-2c73-4ba7-97ac-73a46c5b67d4",
   "metadata": {},
   "outputs": [
    {
     "name": "stdout",
     "output_type": "stream",
     "text": [
      "Columns with object type:\n",
      "Index([], dtype='object')\n",
      "\n",
      "All column dtypes:\n",
      "electricity          int64\n",
      "flfp                 int64\n",
      "age                  int64\n",
      "education_code       int64\n",
      "caste_OBC             bool\n",
      "caste_SC              bool\n",
      "caste_ST              bool\n",
      "state_Bihar           bool\n",
      "state_Kerala          bool\n",
      "state_Maharashtra     bool\n",
      "state_UP              bool\n",
      "dtype: object\n",
      "\n",
      "Sample rows:\n",
      "   electricity  flfp  age  education_code  caste_OBC  caste_SC  caste_ST  \\\n",
      "0            1     0   45               2      False     False      True   \n",
      "1            0     0   24               2      False     False     False   \n",
      "2            0     1   20               1      False     False     False   \n",
      "3            1     1   40               3      False      True     False   \n",
      "4            1     1   45               0      False     False     False   \n",
      "\n",
      "   state_Bihar  state_Kerala  state_Maharashtra  state_UP  \n",
      "0         True         False              False     False  \n",
      "1        False          True              False     False  \n",
      "2         True         False              False     False  \n",
      "3        False         False              False      True  \n",
      "4         True         False              False     False  \n"
     ]
    }
   ],
   "source": [
    "import pandas as pd\n",
    "import numpy as np\n",
    "\n",
    "# Double check object columns\n",
    "print(\"Columns with object type:\")\n",
    "print(df_clean.select_dtypes(include='object').columns)\n",
    "\n",
    "# Show data types\n",
    "print(\"\\nAll column dtypes:\")\n",
    "print(df_clean.dtypes)\n",
    "\n",
    "# Show sample values\n",
    "print(\"\\nSample rows:\")\n",
    "print(df_clean.head())\n"
   ]
  },
  {
   "cell_type": "code",
   "execution_count": 26,
   "id": "1820c281-1eb9-488e-86b9-5ee41bb4f037",
   "metadata": {},
   "outputs": [
    {
     "name": "stdout",
     "output_type": "stream",
     "text": [
      "X types:\n",
      " electricity          int64\n",
      "age                  int64\n",
      "education_code       int64\n",
      "caste_OBC             bool\n",
      "caste_SC              bool\n",
      "caste_ST              bool\n",
      "state_Bihar           bool\n",
      "state_Kerala          bool\n",
      "state_Maharashtra     bool\n",
      "state_UP              bool\n",
      "dtype: object\n",
      "\n",
      "Y type: int64\n",
      "\n",
      "Object columns in X: []\n"
     ]
    }
   ],
   "source": [
    "# Step 1: Drop the target and isolate X\n",
    "X = df_clean.drop(columns=\"flfp\")\n",
    "y = df_clean[\"flfp\"]\n",
    "\n",
    "# Step 2: Check the types\n",
    "print(\"X types:\\n\", X.dtypes)\n",
    "print(\"\\nY type:\", y.dtypes)\n",
    "\n",
    "# Step 3: Check for object-type columns\n",
    "object_cols = X.select_dtypes(include='object').columns.tolist()\n",
    "print(\"\\nObject columns in X:\", object_cols)\n",
    "\n",
    "# Step 4: Show a sample from those object columns\n",
    "if object_cols:\n",
    "    print(\"\\nSample values from object columns:\")\n",
    "    for col in object_cols:\n",
    "        print(f\"{col}: {X[col].unique()[:5]}\")\n"
   ]
  },
  {
   "cell_type": "code",
   "execution_count": 27,
   "id": "d8e012b9-7ca3-46f5-aca3-9ef98bac4a75",
   "metadata": {},
   "outputs": [
    {
     "data": {
      "text/html": [
       "<table class=\"simpletable\">\n",
       "<caption>OLS Regression Results</caption>\n",
       "<tr>\n",
       "  <th>Dep. Variable:</th>          <td>flfp</td>       <th>  R-squared:         </th> <td>   0.009</td>\n",
       "</tr>\n",
       "<tr>\n",
       "  <th>Model:</th>                   <td>OLS</td>       <th>  Adj. R-squared:    </th> <td>  -0.001</td>\n",
       "</tr>\n",
       "<tr>\n",
       "  <th>Method:</th>             <td>Least Squares</td>  <th>  F-statistic:       </th> <td>  0.8761</td>\n",
       "</tr>\n",
       "<tr>\n",
       "  <th>Date:</th>             <td>Mon, 07 Jul 2025</td> <th>  Prob (F-statistic):</th>  <td> 0.555</td> \n",
       "</tr>\n",
       "<tr>\n",
       "  <th>Time:</th>                 <td>06:04:59</td>     <th>  Log-Likelihood:    </th> <td> -686.38</td>\n",
       "</tr>\n",
       "<tr>\n",
       "  <th>No. Observations:</th>      <td>  1000</td>      <th>  AIC:               </th> <td>   1395.</td>\n",
       "</tr>\n",
       "<tr>\n",
       "  <th>Df Residuals:</th>          <td>   989</td>      <th>  BIC:               </th> <td>   1449.</td>\n",
       "</tr>\n",
       "<tr>\n",
       "  <th>Df Model:</th>              <td>    10</td>      <th>                     </th>     <td> </td>   \n",
       "</tr>\n",
       "<tr>\n",
       "  <th>Covariance Type:</th>      <td>nonrobust</td>    <th>                     </th>     <td> </td>   \n",
       "</tr>\n",
       "</table>\n",
       "<table class=\"simpletable\">\n",
       "<tr>\n",
       "          <td></td>             <th>coef</th>     <th>std err</th>      <th>t</th>      <th>P>|t|</th>  <th>[0.025</th>    <th>0.975]</th>  \n",
       "</tr>\n",
       "<tr>\n",
       "  <th>const</th>             <td>    0.4611</td> <td>    0.078</td> <td>    5.937</td> <td> 0.000</td> <td>    0.309</td> <td>    0.613</td>\n",
       "</tr>\n",
       "<tr>\n",
       "  <th>electricity</th>       <td>   -0.0377</td> <td>    0.034</td> <td>   -1.109</td> <td> 0.268</td> <td>   -0.104</td> <td>    0.029</td>\n",
       "</tr>\n",
       "<tr>\n",
       "  <th>age</th>               <td>    0.0006</td> <td>    0.002</td> <td>    0.373</td> <td> 0.710</td> <td>   -0.003</td> <td>    0.004</td>\n",
       "</tr>\n",
       "<tr>\n",
       "  <th>education_code</th>    <td>    0.0085</td> <td>    0.016</td> <td>    0.538</td> <td> 0.591</td> <td>   -0.022</td> <td>    0.039</td>\n",
       "</tr>\n",
       "<tr>\n",
       "  <th>caste_OBC</th>         <td>   -0.0592</td> <td>    0.043</td> <td>   -1.386</td> <td> 0.166</td> <td>   -0.143</td> <td>    0.025</td>\n",
       "</tr>\n",
       "<tr>\n",
       "  <th>caste_SC</th>          <td>   -0.0501</td> <td>    0.046</td> <td>   -1.091</td> <td> 0.275</td> <td>   -0.140</td> <td>    0.040</td>\n",
       "</tr>\n",
       "<tr>\n",
       "  <th>caste_ST</th>          <td>   -0.1142</td> <td>    0.052</td> <td>   -2.195</td> <td> 0.028</td> <td>   -0.216</td> <td>   -0.012</td>\n",
       "</tr>\n",
       "<tr>\n",
       "  <th>state_Bihar</th>       <td>   -0.0613</td> <td>    0.048</td> <td>   -1.273</td> <td> 0.203</td> <td>   -0.156</td> <td>    0.033</td>\n",
       "</tr>\n",
       "<tr>\n",
       "  <th>state_Kerala</th>      <td>   -0.0380</td> <td>    0.049</td> <td>   -0.777</td> <td> 0.438</td> <td>   -0.134</td> <td>    0.058</td>\n",
       "</tr>\n",
       "<tr>\n",
       "  <th>state_Maharashtra</th> <td>   -0.0427</td> <td>    0.050</td> <td>   -0.847</td> <td> 0.397</td> <td>   -0.141</td> <td>    0.056</td>\n",
       "</tr>\n",
       "<tr>\n",
       "  <th>state_UP</th>          <td>   -0.0615</td> <td>    0.046</td> <td>   -1.326</td> <td> 0.185</td> <td>   -0.152</td> <td>    0.029</td>\n",
       "</tr>\n",
       "</table>\n",
       "<table class=\"simpletable\">\n",
       "<tr>\n",
       "  <th>Omnibus:</th>       <td>5019.250</td> <th>  Durbin-Watson:     </th> <td>   2.030</td>\n",
       "</tr>\n",
       "<tr>\n",
       "  <th>Prob(Omnibus):</th>  <td> 0.000</td>  <th>  Jarque-Bera (JB):  </th> <td> 164.721</td>\n",
       "</tr>\n",
       "<tr>\n",
       "  <th>Skew:</th>           <td> 0.533</td>  <th>  Prob(JB):          </th> <td>1.70e-36</td>\n",
       "</tr>\n",
       "<tr>\n",
       "  <th>Kurtosis:</th>       <td> 1.322</td>  <th>  Cond. No.          </th> <td>    215.</td>\n",
       "</tr>\n",
       "</table><br/><br/>Notes:<br/>[1] Standard Errors assume that the covariance matrix of the errors is correctly specified."
      ],
      "text/latex": [
       "\\begin{center}\n",
       "\\begin{tabular}{lclc}\n",
       "\\toprule\n",
       "\\textbf{Dep. Variable:}     &       flfp       & \\textbf{  R-squared:         } &     0.009   \\\\\n",
       "\\textbf{Model:}             &       OLS        & \\textbf{  Adj. R-squared:    } &    -0.001   \\\\\n",
       "\\textbf{Method:}            &  Least Squares   & \\textbf{  F-statistic:       } &    0.8761   \\\\\n",
       "\\textbf{Date:}              & Mon, 07 Jul 2025 & \\textbf{  Prob (F-statistic):} &    0.555    \\\\\n",
       "\\textbf{Time:}              &     06:04:59     & \\textbf{  Log-Likelihood:    } &   -686.38   \\\\\n",
       "\\textbf{No. Observations:}  &        1000      & \\textbf{  AIC:               } &     1395.   \\\\\n",
       "\\textbf{Df Residuals:}      &         989      & \\textbf{  BIC:               } &     1449.   \\\\\n",
       "\\textbf{Df Model:}          &          10      & \\textbf{                     } &             \\\\\n",
       "\\textbf{Covariance Type:}   &    nonrobust     & \\textbf{                     } &             \\\\\n",
       "\\bottomrule\n",
       "\\end{tabular}\n",
       "\\begin{tabular}{lcccccc}\n",
       "                            & \\textbf{coef} & \\textbf{std err} & \\textbf{t} & \\textbf{P$> |$t$|$} & \\textbf{[0.025} & \\textbf{0.975]}  \\\\\n",
       "\\midrule\n",
       "\\textbf{const}              &       0.4611  &        0.078     &     5.937  &         0.000        &        0.309    &        0.613     \\\\\n",
       "\\textbf{electricity}        &      -0.0377  &        0.034     &    -1.109  &         0.268        &       -0.104    &        0.029     \\\\\n",
       "\\textbf{age}                &       0.0006  &        0.002     &     0.373  &         0.710        &       -0.003    &        0.004     \\\\\n",
       "\\textbf{education\\_code}    &       0.0085  &        0.016     &     0.538  &         0.591        &       -0.022    &        0.039     \\\\\n",
       "\\textbf{caste\\_OBC}         &      -0.0592  &        0.043     &    -1.386  &         0.166        &       -0.143    &        0.025     \\\\\n",
       "\\textbf{caste\\_SC}          &      -0.0501  &        0.046     &    -1.091  &         0.275        &       -0.140    &        0.040     \\\\\n",
       "\\textbf{caste\\_ST}          &      -0.1142  &        0.052     &    -2.195  &         0.028        &       -0.216    &       -0.012     \\\\\n",
       "\\textbf{state\\_Bihar}       &      -0.0613  &        0.048     &    -1.273  &         0.203        &       -0.156    &        0.033     \\\\\n",
       "\\textbf{state\\_Kerala}      &      -0.0380  &        0.049     &    -0.777  &         0.438        &       -0.134    &        0.058     \\\\\n",
       "\\textbf{state\\_Maharashtra} &      -0.0427  &        0.050     &    -0.847  &         0.397        &       -0.141    &        0.056     \\\\\n",
       "\\textbf{state\\_UP}          &      -0.0615  &        0.046     &    -1.326  &         0.185        &       -0.152    &        0.029     \\\\\n",
       "\\bottomrule\n",
       "\\end{tabular}\n",
       "\\begin{tabular}{lclc}\n",
       "\\textbf{Omnibus:}       & 5019.250 & \\textbf{  Durbin-Watson:     } &    2.030  \\\\\n",
       "\\textbf{Prob(Omnibus):} &   0.000  & \\textbf{  Jarque-Bera (JB):  } &  164.721  \\\\\n",
       "\\textbf{Skew:}          &   0.533  & \\textbf{  Prob(JB):          } & 1.70e-36  \\\\\n",
       "\\textbf{Kurtosis:}      &   1.322  & \\textbf{  Cond. No.          } &     215.  \\\\\n",
       "\\bottomrule\n",
       "\\end{tabular}\n",
       "%\\caption{OLS Regression Results}\n",
       "\\end{center}\n",
       "\n",
       "Notes: \\newline\n",
       " [1] Standard Errors assume that the covariance matrix of the errors is correctly specified."
      ],
      "text/plain": [
       "<class 'statsmodels.iolib.summary.Summary'>\n",
       "\"\"\"\n",
       "                            OLS Regression Results                            \n",
       "==============================================================================\n",
       "Dep. Variable:                   flfp   R-squared:                       0.009\n",
       "Model:                            OLS   Adj. R-squared:                 -0.001\n",
       "Method:                 Least Squares   F-statistic:                    0.8761\n",
       "Date:                Mon, 07 Jul 2025   Prob (F-statistic):              0.555\n",
       "Time:                        06:04:59   Log-Likelihood:                -686.38\n",
       "No. Observations:                1000   AIC:                             1395.\n",
       "Df Residuals:                     989   BIC:                             1449.\n",
       "Df Model:                          10                                         \n",
       "Covariance Type:            nonrobust                                         \n",
       "=====================================================================================\n",
       "                        coef    std err          t      P>|t|      [0.025      0.975]\n",
       "-------------------------------------------------------------------------------------\n",
       "const                 0.4611      0.078      5.937      0.000       0.309       0.613\n",
       "electricity          -0.0377      0.034     -1.109      0.268      -0.104       0.029\n",
       "age                   0.0006      0.002      0.373      0.710      -0.003       0.004\n",
       "education_code        0.0085      0.016      0.538      0.591      -0.022       0.039\n",
       "caste_OBC            -0.0592      0.043     -1.386      0.166      -0.143       0.025\n",
       "caste_SC             -0.0501      0.046     -1.091      0.275      -0.140       0.040\n",
       "caste_ST             -0.1142      0.052     -2.195      0.028      -0.216      -0.012\n",
       "state_Bihar          -0.0613      0.048     -1.273      0.203      -0.156       0.033\n",
       "state_Kerala         -0.0380      0.049     -0.777      0.438      -0.134       0.058\n",
       "state_Maharashtra    -0.0427      0.050     -0.847      0.397      -0.141       0.056\n",
       "state_UP             -0.0615      0.046     -1.326      0.185      -0.152       0.029\n",
       "==============================================================================\n",
       "Omnibus:                     5019.250   Durbin-Watson:                   2.030\n",
       "Prob(Omnibus):                  0.000   Jarque-Bera (JB):              164.721\n",
       "Skew:                           0.533   Prob(JB):                     1.70e-36\n",
       "Kurtosis:                       1.322   Cond. No.                         215.\n",
       "==============================================================================\n",
       "\n",
       "Notes:\n",
       "[1] Standard Errors assume that the covariance matrix of the errors is correctly specified.\n",
       "\"\"\""
      ]
     },
     "execution_count": 27,
     "metadata": {},
     "output_type": "execute_result"
    }
   ],
   "source": [
    "import statsmodels.api as sm\n",
    "\n",
    "# Step 1: Convert bools to int\n",
    "X = df_clean.drop(columns=\"flfp\").astype({col: int for col in df_clean.columns if df_clean[col].dtype == 'bool'})\n",
    "y = df_clean[\"flfp\"]\n",
    "\n",
    "# Step 2: Add constant\n",
    "X = sm.add_constant(X)\n",
    "\n",
    "# Step 3: Fit the model\n",
    "model = sm.OLS(y, X).fit()\n",
    "model.summary()\n"
   ]
  },
  {
   "cell_type": "code",
   "execution_count": 28,
   "id": "522b205e-5c3d-4cbd-afc6-0b81537c9366",
   "metadata": {},
   "outputs": [],
   "source": [
    "summary_df = model.summary2().tables[1]  # Get detailed table\n",
    "summary_df.to_csv(\"C:\\\\Users\\\\subham.singh_jindals\\\\rural-electrification-flfp\\\\rural-electrification-flfp\\\\/output\\\\regression_summary.csv\")\n"
   ]
  },
  {
   "cell_type": "code",
   "execution_count": null,
   "id": "8652d544-4cf9-43f2-ab5a-46ada55c5e28",
   "metadata": {},
   "outputs": [],
   "source": []
  }
 ],
 "metadata": {
  "kernelspec": {
   "display_name": "Python 3 (ipykernel)",
   "language": "python",
   "name": "python3"
  },
  "language_info": {
   "codemirror_mode": {
    "name": "ipython",
    "version": 3
   },
   "file_extension": ".py",
   "mimetype": "text/x-python",
   "name": "python",
   "nbconvert_exporter": "python",
   "pygments_lexer": "ipython3",
   "version": "3.12.8"
  }
 },
 "nbformat": 4,
 "nbformat_minor": 5
}
